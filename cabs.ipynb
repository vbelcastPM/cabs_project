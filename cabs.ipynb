{
 "cells": [
  {
   "cell_type": "code",
   "execution_count": 89,
   "metadata": {},
   "outputs": [],
   "source": [
    "import seaborn as sns\n",
    "import matplotlib.pyplot as plt\n",
    "import calendar\n",
    "import numpy as np\n",
    "import random as rnd\n",
    "import time as tm\n",
    "import statistics as st\n",
    "#import googlemaps\n",
    "#import geopy.distance\n",
    "\n",
    "# Third party imports\n",
    "from scipy.optimize import linear_sum_assignment\n",
    "from scipy.stats import gamma\n",
    "from itertools import tee\n",
    "\n",
    "# Local application imports\n",
    "from lib import *"
   ]
  },
  {
   "cell_type": "code",
   "execution_count": 26,
   "metadata": {},
   "outputs": [],
   "source": [
    "# Function to randomly sample coordinates from a uniform distribution\n",
    "def sample_coordinate( cabs_data, day, hour, pickup, n_samples):\n",
    "    \"\"\"\n",
    "    Sampling of location coordinates from data using a uniform distribution\n",
    "    \"\"\"\n",
    "    # Uniform random sampling of location coordinates\n",
    "    tf = np.logical_and(cabs_data['day']==day, cabs_data['hour']==hour)\n",
    "    \n",
    "    if pickup == True:\n",
    "        tf1 = np.logical_and(tf, cabs_data['pick_up']==1)\n",
    "    else:\n",
    "        tf1 = np.logical_and(tf, cabs_data['occupancy']==0)\n",
    "    \n",
    "    idx = rnd.sample(range(0, tf1.sum()), n_samples)\n",
    "    geo_coord = cabs_data[tf1].iloc[idx][['latitude', 'longitude']]\n",
    "    \n",
    "    return geo_coord;"
   ]
  },
  {
   "cell_type": "code",
   "execution_count": 27,
   "metadata": {},
   "outputs": [],
   "source": [
    "def build_cost_mat(coord1, coord2):\n",
    "    \"\"\"\n",
    "    Build a cost matrix (based on geo distances) from \n",
    "    all pairs of location coordinates in input\n",
    "    \"\"\"\n",
    "    distances = []\n",
    "    for index1, row1 in coord1.iterrows():\n",
    "        for index2, row2 in coord2.iterrows():\n",
    "            distances.append(haversine(row1[\"longitude\"], row1[\"latitude\"], \n",
    "                                       row2[\"longitude\"], row2[\"latitude\"]))\n",
    "        \n",
    "    cost_matrix = np.ndarray(shape=(len(coord1), len(coord2)), \n",
    "                             buffer=np.array(distances))\n",
    "    return cost_matrix;"
   ]
  },
  {
   "cell_type": "code",
   "execution_count": 72,
   "metadata": {},
   "outputs": [],
   "source": [
    "def simulate_cost(cabs_data, day, hour, ncabs, nrequests, dist_parking):\n",
    "    \"\"\"\n",
    "    Simulate the total cost for dispaching cabs.\n",
    "    Cabs and pick up locations are sampled according to the\n",
    "    statistics inferred from the data in input.\n",
    "    Cost is computed by minimizing distances between cabs and pick up\n",
    "    locations (assignment problem). Locations of clients are assumed \n",
    "    to be the pick up locations from the input data.\n",
    "    \"\"\"\n",
    "    coord1 = sample_coordinate(cabs_data, day, hour, False, ncabs)\n",
    "    coord2 = sample_coordinate(cabs_data, day, hour, True, nrequests)\n",
    "    cost_matrix = build_cost_mat(coord1, coord2)\n",
    "    row_ind, col_ind = linear_sum_assignment(cost_matrix)\n",
    "    cost = cost_matrix[(row_ind,col_ind)].sum()\n",
    "    # Add penality\n",
    "    penalty = gamma.rvs(a=dist_parking, size=len(row_ind)).sum()\n",
    "    return cost+penalty;"
   ]
  },
  {
   "cell_type": "code",
   "execution_count": null,
   "metadata": {},
   "outputs": [],
   "source": [
    "def simulate_scenario(ncabs_tab, pickup_tab, penalty, nsimul):\n",
    "    \"\"\"\n",
    "    Simulate nsimul scenario. Each scenario is a snapshot of the city cabs and requests locations.\n",
    "    \"\"\"\n",
    "    tot_cabs = []\n",
    "    tot_requests = []\n",
    "    tot_costs = []\n",
    "    for k in range(0, nsimul):\n",
    "        start = tm.time()\n",
    "        day = rnd.randint(0, 6)\n",
    "        hour = rnd.randint(0, 23)\n",
    "\n",
    "        ncabs = ncabs_tab[day][hour]\n",
    "        nrequests = pickup_tab[day][hour]\n",
    "\n",
    "        tot_requests.append(nrequests)\n",
    "        tot_cabs.append(ncabs)\n",
    "        tot_costs.append(simulate_cost(cabs_data, day, hour, ncabs, nrequests, penalty))\n",
    "        end = tm.time()\n",
    "    #    print(k, end-start)\n",
    "    return tot_cabs, tot_requests, tot_costs\n"
   ]
  },
  {
   "cell_type": "code",
   "execution_count": 17,
   "metadata": {},
   "outputs": [
    {
     "name": "stdout",
     "output_type": "stream",
     "text": [
      "Formatting time...\n",
      "Adding pick up and drop off location flags and miles...\n",
      "...done!\n"
     ]
    }
   ],
   "source": [
    "#from importlib import reload  # Python 3.4+ only.\n",
    "#import lib\n",
    "#reload(lib)\n",
    "\n",
    "# Load and format input data\n",
    "cabs_data = load_data('cabspottingdata')\n",
    "cabs_data = format_data(cabs_data)"
   ]
  },
  {
   "cell_type": "markdown",
   "metadata": {},
   "source": [
    "The following code computes the elapsed time between consecutive signals. The histogram shows that the gap between consecutive signals on 80% of the cases is about 64s. So we know that in a range of 64 seconds, 80% of the cabs have sent their location. This information can be used to more accurately simulate a dispaching scenario."
   ]
  },
  {
   "cell_type": "code",
   "execution_count": 113,
   "metadata": {
    "scrolled": true
   },
   "outputs": [
    {
     "data": {
      "text/plain": [
       "Text(0, 0.5, '')"
      ]
     },
     "execution_count": 113,
     "metadata": {},
     "output_type": "execute_result"
    },
    {
     "data": {
      "image/png": "[encoded data removed]",
      "text/plain": [
       "<Figure size 432x288 with 1 Axes>"
      ]
     },
     "metadata": {
      "needs_background": "light"
     },
     "output_type": "display_data"
    }
   ],
   "source": [
    "# Compute and check distribution of elapsed time between consecutive signals\n",
    "cabs_data['time_elapsed'] = cabs_data.groupby('cab_name')['timestamp'].diff()\n",
    "top_percentile = np.nanpercentile(cabs_data['time_elapsed'], 80)\n",
    "# Generate histogram\n",
    "time_elapsed = cabs_data['time_elapsed']\n",
    "time_elapsed = time_elapsed[np.logical_and(~np.isnan(time_elapsed), time_elapsed<200)]\n",
    "n, bins, patches = plt.hist(time_elapsed, 50, density=True, facecolor='g', alpha=0.75)\n",
    "plt.axvline(top_percentile, color='k', linestyle='dashed', linewidth=1)\n",
    "min_ylim, max_ylim = plt.ylim()\n",
    "plt.text(top_percentile*1.1, max_ylim*0.9, 'Percentile (80): {:.2f}'.format(top_percentile))\n",
    "plt.title('Elapsed time between signals')\n",
    "plt.xlabel('Elapsed time')\n",
    "plt.ylabel('')"
   ]
  },
  {
   "cell_type": "markdown",
   "metadata": {},
   "source": [
    "The chunck of code below extract two additional information to simulate dispaching scenario: (1) the number of cabs that are cuncurrently in service, and (2) the number of requests in the time window defined above. Note that we overestimate the requests ot a unit. Meaning that the mileage saving will be underestimated."
   ]
  },
  {
   "cell_type": "code",
   "execution_count": 21,
   "metadata": {},
   "outputs": [],
   "source": [
    "# Use day of the month to avoid counting cabs or summing pick ups from different days\n",
    "\n",
    "# Build ndarray with ncabs per hour per day\n",
    "n_cabs = cabs_data.groupby(by=['dayofmonth', 'day', 'hour'])['cab_name'].nunique().reset_index()\n",
    "n_cabs = n_cabs.groupby(by=['day', 'hour'])['cab_name'].mean().round().reset_index()\n",
    "ncabs_tab = np.ndarray(shape=(7, 24), buffer=n_cabs['cab_name'].values).astype(int)\n",
    "\n",
    "# ndarray with ncabs and avg pickup per hour per day\n",
    "n_pickup = cabs_data.groupby(by=['dayofmonth', 'day', 'hour'])['pick_up'].sum().reset_index()\n",
    "n_pickup = n_pickup.groupby(by=['day', 'hour'])['pick_up'].mean().reset_index()\n",
    "n_pickup = (n_pickup.pick_up/3600*top_percentile).values\n",
    "pickup_tab = np.ndarray(shape=(7, 24), buffer=n_pickup).astype(int) + 1"
   ]
  },
  {
   "cell_type": "markdown",
   "metadata": {},
   "source": [
    "Below we compute the average roaming miles per pick up (distance drove by not occupied cabs). Note that this value includes the miles needed to pickup customers after the call. The distribution of those values is unknown, and cannot be estimated from the data in input. "
   ]
  },
  {
   "cell_type": "code",
   "execution_count": null,
   "metadata": {},
   "outputs": [],
   "source": [
    "# Average roamning miles per single pick up\n",
    "miles_per_pickup = cabs_data[cabs_data['occupancy'] == 0].miles.sum()/cabs_data.pick_up.sum()"
   ]
  },
  {
   "cell_type": "markdown",
   "metadata": {},
   "source": [
    "Let's simulate some dispaching scenario while keeping track of number of cabs and requests for each simulation. \n",
    "To have a more realistic comparison, we have added a penality in the cost matrix. This penality reflects the distance between a drop off location and the next cab parking spot. We have used a gamma distribution following the assumption that it is unlikely for a cab to park at the drop off location, and it is likely to find a spot nearby (cabs are moving customers within the downtown edges). \n",
    "Here we assume that, after a drop off, cabs will drive on average 1/4 of a mile before finding a parking spot."
   ]
  },
  {
   "cell_type": "code",
   "execution_count": null,
   "metadata": {},
   "outputs": [],
   "source": [
    "# Simulate scenario\n",
    "tot_cabs, tot_requests, tot_costs = simulate_scenario(ncabs_tab, pickup_tab, 1, 1000)"
   ]
  },
  {
   "cell_type": "markdown",
   "metadata": {},
   "source": [
    "The number of miles drove per pickup (2.7mi) is on average a San Francisco cab had to drive to fulfill a request in the period: May 17 - June 10, 2008.\n",
    "\n",
    "The histogram reports instead the results of our simulation. This correspond to the number of miles needed to fullfill a request if a centralized and optimized system was in place (same period of time). In blue the 99th percentile."
   ]
  },
  {
   "cell_type": "code",
   "execution_count": null,
   "metadata": {
    "scrolled": true
   },
   "outputs": [],
   "source": [
    "# Miles per pick up from simulation\n",
    "miles_per_pickup_est = [x/y for x, y in zip(tot_costs, tot_requests)]\n",
    "\n",
    "n, bins, patches = plt.hist(miles_per_pickup_est, 100, range=[0, 4], density=True, facecolor='g', alpha=0.75)\n",
    "plt.axvline(avg_miles_per_pickup, color='k', linestyle='dashed', linewidth=1)\n",
    "min_ylim, max_ylim = plt.ylim()\n",
    "\n",
    "plt.axvline(avg_miles_per_pickup, color='k', linestyle='dashed', linewidth=2)\n",
    "plt.text(miles_per_pickup*1.03, max_ylim*0.9, 'mi/pickup: {:.2f}'.format(miles_per_pickup), fontsize=10)\n",
    "\n",
    "miles_per_pickup_est_perc = np.nanpercentile(miles_per_pickup_est, 99)\n",
    "plt.axvline(perc_99_est, color=\"b\", linestyle='dashed', linewidth=2)\n",
    "plt.text(miles_per_pickup_est_perc*1.05, max_ylim*0.9,\n",
    "         'mi/pickup(Est): {:.2f}'.format(miles_per_pickup_est_perc), fontsize=10, color=\"b\")\n",
    "\n",
    "plt.title('Miles per pickup')\n",
    "plt.xlabel('miles')\n",
    "plt.ylabel('')"
   ]
  },
  {
   "cell_type": "markdown",
   "metadata": {},
   "source": [
    "Below we compute the total reducion in CO2 emissions per year (~1897 tons) assuming a cab fleet transition to electical engines (10% per month). \n",
    "\n",
    "In other words, in one year we won't emit a volume of CO2 as big as 1.5% of the total volume occupied by single family houses in San Francisco."
   ]
  },
  {
   "cell_type": "code",
   "execution_count": null,
   "metadata": {},
   "outputs": [],
   "source": [
    "# Total pickups per month\n",
    "tot_pickups = cabs_data.pick_up.sum()\n",
    "tot_pickups_per_sec = tot_pickups/(cabs_data.timestamp.max()-cabs_data.timestamp.min())\n",
    "tot_pickups_per_month = tot_pickups_per_sec*2628000\n",
    "\n",
    "# Additional miles per month \n",
    "addit_miles_per_pickup = miles_per_pickup-miles_per_pickup_est_perc\n",
    "addit_miles_per_month = tot_pickups_per_month*addit_miles_per_pickup\n",
    "\n",
    "# Reduction in CO2 emission per year (grams)\n",
    "year_reduction = ((addit_miles_per_month*404)*(np.arange(90, -1, -10)/100)).sum()\n",
    "print(\"Yearly reduction of CO2 emissions:\", year_reduction.astype(int), \"grams.\")"
   ]
  },
  {
   "cell_type": "code",
   "execution_count": null,
   "metadata": {
    "scrolled": true
   },
   "outputs": [],
   "source": []
  },
  {
   "cell_type": "code",
   "execution_count": 28,
   "metadata": {},
   "outputs": [
    {
     "name": "stderr",
     "output_type": "stream",
     "text": [
      "/opt/python3science/lib/python3.6/site-packages/scipy/stats/stats.py:1713: FutureWarning: Using a non-tuple sequence for multidimensional indexing is deprecated; use `arr[tuple(seq)]` instead of `arr[seq]`. In the future this will be interpreted as an array index, `arr[np.array(seq)]`, which will result either in an error or a different result.\n",
      "  return np.add.reduce(sorted[indexer] * weights, axis=axis) / sumval\n"
     ]
    },
    {
     "data": {
      "image/png": "[encoded data removed]",
      "text/plain": [
       "<Figure size 936x360 with 2 Axes>"
      ]
     },
     "metadata": {},
     "output_type": "display_data"
    }
   ],
   "source": [
    "import itertools\n",
    "\n",
    "cols = ['longitude', 'latitude']\n",
    "length = len(cols)\n",
    "cs     = [(0.8941176470588236, 0.10196078431372549, 0.10980392156862745),\n",
    "          (0.21568627450980393, 0.49411764705882355, 0.7215686274509804)]\n",
    "\n",
    "sns.set_style(\"darkgrid\")\n",
    "plt.figure(figsize = (13,5))\n",
    "for i,j,k in itertools.zip_longest(cols,range(length),cs):\n",
    "    plt.subplot(length/2,length/1,j+1)\n",
    "    sns.distplot(cabs_data[i],color = k)\n",
    "    plt.axvline(cabs_data[i].mean(),linewidth  = 2 ,\n",
    "                linestyle = \"dashed\",color = \"k\" ,\n",
    "                label = \"Mean\")\n",
    "    plt.legend(loc = \"best\")\n",
    "    plt.title(i,color = \"b\")\n",
    "    plt.xlabel(\"\")"
   ]
  },
  {
   "cell_type": "code",
   "execution_count": 11,
   "metadata": {
    "scrolled": true
   },
   "outputs": [
    {
     "data": {
      "image/png": "[encoded data removed]",
      "text/plain": [
       "<Figure size 864x504 with 1 Axes>"
      ]
     },
     "metadata": {
      "needs_background": "light"
     },
     "output_type": "display_data"
    }
   ],
   "source": [
    "#\n",
    "pick_ups = cabs_data.groupby('day')['pick_up'].sum().reset_index()\n",
    "\n",
    "plt.figure(figsize = (12,7))\n",
    "sns.barplot('day', 'pick_up',\n",
    "            data = pick_ups,\n",
    "            linewidth =1\n",
    "           )\n",
    "plt.grid(True)\n",
    "plt.title('Count of pickups per week day')\n",
    "plt.xticks(ticks=np.arange(7), labels=list(calendar.day_name))\n",
    "plt.show()"
   ]
  }
 ],
 "metadata": {
  "kernelspec": {
   "display_name": "Python 3",
   "language": "python",
   "name": "python3"
  },
  "language_info": {
   "codemirror_mode": {
    "name": "ipython",
    "version": 3
   },
   "file_extension": ".py",
   "mimetype": "text/x-python",
   "name": "python",
   "nbconvert_exporter": "python",
   "pygments_lexer": "ipython3",
   "version": "3.6.4"
  }
 },
 "nbformat": 4,
 "nbformat_minor": 2
}
